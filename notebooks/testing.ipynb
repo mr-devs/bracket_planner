{
 "cells": [
  {
   "cell_type": "markdown",
   "metadata": {},
   "source": [
    "### Testing notebook to develop package..."
   ]
  },
  {
   "cell_type": "code",
   "execution_count": 1,
   "metadata": {},
   "outputs": [],
   "source": [
    "import random\n",
    "import os\n",
    "from collections import defaultdict"
   ]
  },
  {
   "cell_type": "code",
   "execution_count": 2,
   "metadata": {},
   "outputs": [],
   "source": [
    "file_path = os.path.join(\"..\",\"data\",\"test_data.txt\")"
   ]
  },
  {
   "cell_type": "code",
   "execution_count": 3,
   "metadata": {},
   "outputs": [
    {
     "data": {
      "text/plain": [
       "'../data/test_data.txt'"
      ]
     },
     "execution_count": 3,
     "metadata": {},
     "output_type": "execute_result"
    }
   ],
   "source": [
    "\n",
    "file_path"
   ]
  },
  {
   "cell_type": "code",
   "execution_count": 345,
   "metadata": {},
   "outputs": [
    {
     "data": {
      "text/plain": [
       "['/Users/matthewdeverna/Documents/Projects/bracket_planner/notebooks',\n",
       " '/Users/matthewdeverna/anaconda3/lib/python37.zip',\n",
       " '/Users/matthewdeverna/anaconda3/lib/python3.7',\n",
       " '/Users/matthewdeverna/anaconda3/lib/python3.7/lib-dynload',\n",
       " '',\n",
       " '/Users/matthewdeverna/.local/lib/python3.7/site-packages',\n",
       " '/Users/matthewdeverna/anaconda3/lib/python3.7/site-packages',\n",
       " '/Users/matthewdeverna/anaconda3/lib/python3.7/site-packages/aeosa',\n",
       " '/Users/matthewdeverna/anaconda3/lib/python3.7/site-packages/My-Python-Packages',\n",
       " '/Users/matthewdeverna/anaconda3/lib/python3.7/site-packages/IPython/extensions',\n",
       " '/Users/matthewdeverna/.ipython']"
      ]
     },
     "execution_count": 345,
     "metadata": {},
     "output_type": "execute_result"
    }
   ],
   "source": [
    "import sys\n",
    "sys.path"
   ]
  },
  {
   "cell_type": "code",
   "execution_count": 110,
   "metadata": {},
   "outputs": [],
   "source": [
    "with open(file_path, \"r\") as f:\n",
    "    players = [line.rstrip(\"\\n\").split(\"!!\") for line in f]\n",
    "\n",
    "cant_pair = defaultdict(list)\n",
    "\n",
    "individual_players = []\n",
    "\n",
    "for player in players:\n",
    "    \n",
    "    current_player = player[0].rstrip()\n",
    "    dont_pair_players = player[1:]\n",
    "    \n",
    "    individual_players.append(current_player)\n",
    "    \n",
    "    if len(player) > 1:\n",
    "        cant_pair[current_player] = dont_pair_players"
   ]
  },
  {
   "cell_type": "code",
   "execution_count": null,
   "metadata": {},
   "outputs": [],
   "source": [
    "ak"
   ]
  },
  {
   "cell_type": "code",
   "execution_count": 113,
   "metadata": {},
   "outputs": [
    {
     "data": {
      "text/plain": [
       "'last fool'"
      ]
     },
     "execution_count": 113,
     "metadata": {},
     "output_type": "execute_result"
    }
   ],
   "source": [
    "individual_players.pop()"
   ]
  },
  {
   "cell_type": "code",
   "execution_count": 95,
   "metadata": {},
   "outputs": [
    {
     "data": {
      "text/plain": [
       "defaultdict(list,\n",
       "            {'jimmy smith': ['billy bob'],\n",
       "             'bubbleface mcgee': ['tom brady', 'the new guy']})"
      ]
     },
     "execution_count": 95,
     "metadata": {},
     "output_type": "execute_result"
    }
   ],
   "source": [
    "cant_pair"
   ]
  },
  {
   "cell_type": "code",
   "execution_count": 191,
   "metadata": {},
   "outputs": [],
   "source": [
    "class Team:\n",
    "    def __init__(self, player1, player2):\n",
    "        capitalized_names1 = [p.capitalize() for p in player1.split()]\n",
    "        capitalized_names2 = [p.capitalize() for p in player2.split()]\n",
    "        \n",
    "        self.player1 = \" \".join(capitalized_names1)\n",
    "        self.player2 = \" \".join(capitalized_names2)\n",
    "        \n",
    "    def __str__(self):\n",
    "        return f\"{self.player1} & {self.player2}\"\n",
    "    \n",
    "    def __repr__(self):\n",
    "        return f\"Team({self.player1}, {self.player2})\"\n",
    "    "
   ]
  },
  {
   "cell_type": "code",
   "execution_count": 192,
   "metadata": {},
   "outputs": [],
   "source": [
    "team1 = Team(\"big tits\", \"mcgee\")"
   ]
  },
  {
   "cell_type": "code",
   "execution_count": 193,
   "metadata": {},
   "outputs": [
    {
     "data": {
      "text/plain": [
       "Team(Big Tits, Mcgee)"
      ]
     },
     "execution_count": 193,
     "metadata": {},
     "output_type": "execute_result"
    }
   ],
   "source": [
    "team1"
   ]
  },
  {
   "cell_type": "code",
   "execution_count": 54,
   "metadata": {},
   "outputs": [
    {
     "data": {
      "text/plain": [
       "'jimmy smith '"
      ]
     },
     "execution_count": 54,
     "metadata": {},
     "output_type": "execute_result"
    }
   ],
   "source": [
    "name = random.choice(individual_players)\n",
    "name"
   ]
  },
  {
   "cell_type": "code",
   "execution_count": 56,
   "metadata": {},
   "outputs": [
    {
     "data": {
      "text/plain": [
       "'jimmy smith'"
      ]
     },
     "execution_count": 56,
     "metadata": {},
     "output_type": "execute_result"
    }
   ],
   "source": [
    "name.rstrip()"
   ]
  },
  {
   "cell_type": "code",
   "execution_count": 88,
   "metadata": {},
   "outputs": [
    {
     "data": {
      "text/plain": [
       "14"
      ]
     },
     "execution_count": 88,
     "metadata": {},
     "output_type": "execute_result"
    }
   ],
   "source": [
    "len(individual_players.pop())"
   ]
  },
  {
   "cell_type": "code",
   "execution_count": 115,
   "metadata": {},
   "outputs": [
    {
     "name": "stdout",
     "output_type": "stream",
     "text": [
      "Team #1\n",
      "Another random\n",
      "Billy bob\n",
      "\n",
      "\n",
      "Team #2\n",
      "The new guy\n",
      "Tiny time the big beast\n",
      "\n",
      "\n",
      "Team #3\n",
      "Tom brady\n",
      "Jimmy smith\n",
      "\n",
      "\n",
      "Team #4\n",
      "Bubbleface mcgee\n",
      "Katy wentworth\n",
      "\n",
      "\n"
     ]
    }
   ],
   "source": [
    "for idx, team in enumerate(all_teams, start=1):\n",
    "    print(f\"Team #{idx}\")\n",
    "    print(team.player1)\n",
    "    print(team.player2)\n",
    "    print(\"\\n\")"
   ]
  },
  {
   "cell_type": "code",
   "execution_count": 229,
   "metadata": {},
   "outputs": [
    {
     "name": "stdout",
     "output_type": "stream",
     "text": [
      "Can't make teams of two with an odd number of players!!\n",
      "\n",
      "Input one of the two options below:\n",
      "\t 1. 'add' - to add a new player\n",
      "\t 2. 'remove' - to remove a random player from the current list\n",
      "add\n"
     ]
    }
   ],
   "source": [
    "answer = input(\n",
    "                \"Can't make teams of two with an odd number of players!!\\n\\n\"\n",
    "                \"Input one of the two options below:\\n\"\n",
    "                \"\\t 1. 'add' - to add a new player\\n\"\n",
    "                \"\\t 2. 'remove' - to remove a random player from the current list\\n\"\n",
    "            )"
   ]
  },
  {
   "cell_type": "code",
   "execution_count": 231,
   "metadata": {},
   "outputs": [
    {
     "name": "stdout",
     "output_type": "stream",
     "text": [
      "good\n"
     ]
    }
   ],
   "source": [
    "if answer not in ['add','remove']:\n",
    "    print(\"Invalid input. Please respond with `add` or `remove`.\")\n",
    "else:\n",
    "    print('good')"
   ]
  },
  {
   "cell_type": "code",
   "execution_count": null,
   "metadata": {},
   "outputs": [],
   "source": [
    "def get_"
   ]
  },
  {
   "cell_type": "code",
   "execution_count": null,
   "metadata": {},
   "outputs": [],
   "source": [
    "if answer == 'add':\n",
    "    new_player = input(\"Please enter the name of the new player\")\n",
    "    self._players_raw.append(new_player.rstrip())"
   ]
  },
  {
   "cell_type": "code",
   "execution_count": 241,
   "metadata": {},
   "outputs": [],
   "source": [
    "def yesno():\n",
    "    message = (\"Can't make teams of two with an odd number of players!!\\n\\n\"\n",
    "            \"Input one of the two options below:\\n\"\n",
    "            \"\\t 1. 'add' - to add a new player\\n\"\n",
    "            \"\\t 2. 'remove' - to remove a random player from the current list\\n\")\n",
    "    answer = None\n",
    "    while answer not in ['add','remove']:\n",
    "        answer = input(message)\n",
    "        if answer == 'add':\n",
    "            return answer\n",
    "        elif answer == 'remove':\n",
    "            return answer\n",
    "        else:\n",
    "            print(\"*** INCORRECT INPUT ***\")"
   ]
  },
  {
   "cell_type": "code",
   "execution_count": 242,
   "metadata": {},
   "outputs": [
    {
     "name": "stdout",
     "output_type": "stream",
     "text": [
      "Can't make teams of two with an odd number of players!!\n",
      "\n",
      "Input one of the two options below:\n",
      "\t 1. 'add' - to add a new player\n",
      "\t 2. 'remove' - to remove a random player from the current list\n",
      "butt\n",
      "*** INCORRECT INPUT ***\n",
      "Can't make teams of two with an odd number of players!!\n",
      "\n",
      "Input one of the two options below:\n",
      "\t 1. 'add' - to add a new player\n",
      "\t 2. 'remove' - to remove a random player from the current list\n",
      "add\n",
      "add\n"
     ]
    }
   ],
   "source": [
    "test = yesno()\n",
    "print(test)"
   ]
  },
  {
   "cell_type": "code",
   "execution_count": 234,
   "metadata": {},
   "outputs": [],
   "source": [
    "message = (\"Can't make teams of two with an odd number of players!!\\n\\n\"\n",
    "            \"Input one of the two options below:\\n\"\n",
    "            \"\\t 1. 'add' - to add a new player\\n\"\n",
    "            \"\\t 2. 'remove' - to remove a random player from the current list\\n\")"
   ]
  },
  {
   "cell_type": "code",
   "execution_count": 236,
   "metadata": {},
   "outputs": [
    {
     "name": "stdout",
     "output_type": "stream",
     "text": [
      "Can't make teams of two with an odd number of players!!\n",
      "\n",
      "Input one of the two options below:\n",
      "\t 1. 'add' - to add a new player\n",
      "\t 2. 'remove' - to remove a random player from the current list\n",
      "\n"
     ]
    }
   ],
   "source": [
    "print(message)"
   ]
  },
  {
   "cell_type": "code",
   "execution_count": 247,
   "metadata": {},
   "outputs": [],
   "source": [
    "individual_players.append(\"tom\")"
   ]
  },
  {
   "cell_type": "code",
   "execution_count": 248,
   "metadata": {},
   "outputs": [
    {
     "data": {
      "text/plain": [
       "['bobby', 'billy', 'sally', 'tom']"
      ]
     },
     "execution_count": 248,
     "metadata": {},
     "output_type": "execute_result"
    }
   ],
   "source": [
    "individual_players"
   ]
  },
  {
   "cell_type": "code",
   "execution_count": null,
   "metadata": {},
   "outputs": [],
   "source": [
    "def remove_player(what2do):\n",
    "    \n",
    "    if"
   ]
  },
  {
   "cell_type": "code",
   "execution_count": null,
   "metadata": {},
   "outputs": [],
   "source": [
    "what2do = 'random'"
   ]
  },
  {
   "cell_type": "code",
   "execution_count": 351,
   "metadata": {},
   "outputs": [],
   "source": [
    "class Bracket_Generator:\n",
    "    def __init__(self, file_path):\n",
    "        self._file_path = file_path\n",
    "        self._problem_pairs = defaultdict(list)\n",
    "        self._individual_players = list()\n",
    "        self._players_raw = None\n",
    "        self._teams = list()\n",
    "        self._matchups = list()\n",
    "    \n",
    "    \n",
    "    @staticmethod\n",
    "    def chunker(seq: list, size: int) -> list:\n",
    "        \"\"\"\n",
    "        Convert a list (seq) into a list of\n",
    "        smaller lists (with len <= size), where only the\n",
    "        last list will have len < size.\n",
    "\n",
    "        Parameters:\n",
    "        ----------\n",
    "        - seq (list) : the iterable you'd like to chunk into\n",
    "            smaller lists\n",
    "        - size (int) : the size of the returned chunk(s)\n",
    "\n",
    "        Return:\n",
    "        ----------\n",
    "        - list\n",
    "\n",
    "        Exceptions:\n",
    "        ----------\n",
    "        - ValueError\n",
    "\n",
    "        ~~~\n",
    "        Example Usage:\n",
    "        import osometweet.utils as o_utils\n",
    "        my_list = [1,2,3,4,5,6,7,8,9]\n",
    "        chunker(seq = my_list, size = 2)\n",
    "        # Returns\n",
    "        [[1, 2], [3, 4], [5, 6], [7, 8], [9]]\n",
    "        \"\"\"\n",
    "        if not isinstance(seq, list):\n",
    "            raise ValueError(\"`seq` must be a list\")\n",
    "        return list(seq[pos:pos + size] for pos in range(0, len(seq), size))\n",
    "    \n",
    "\n",
    "    def get_input_on_odd_names(self):\n",
    "        \"\"\"\n",
    "        Asks for input on odd number of players. Repeatedly asks for answer\n",
    "        if proper response is not given,\n",
    "        \"\"\"\n",
    "        message = (\"Can't make teams of two with an odd number of players!!\\n\\n\"\n",
    "            \"Input one of the two options below:\\n\"\n",
    "            \"\\t 1. 'add' - to add a new player\\n\"\n",
    "            \"\\t 2. 'remove' - to remove a random player from the current list\\n\")\n",
    "        \n",
    "        answer = None\n",
    "        while answer not in ['add','remove']:\n",
    "            answer = input(message)\n",
    "            if answer == 'add':\n",
    "                return answer\n",
    "            elif answer == 'remove':\n",
    "                return answer\n",
    "            else:\n",
    "                print(\"*** INCORRECT INPUT ***\")\n",
    "    \n",
    "    \n",
    "    def load_names(self):\n",
    "        \"\"\"\n",
    "        Load the list of names\n",
    "        \"\"\"\n",
    "        with open(self._file_path, \"r\") as f:\n",
    "            # Anyone beyond \"!!\" on a line indicates players who can't be matched\n",
    "            self._players_raw = [line.rstrip(\"\\n\").split(\"!!\") for line in f]\n",
    "        \n",
    "        # Handle an odd number of players...\n",
    "        odd_number_of_players = len(self._players_raw) % 2 != 0\n",
    "        if odd_number_of_players:\n",
    "            answer = self.get_input_on_odd_names()\n",
    "            \n",
    "            if answer == 'add':\n",
    "                new_name = input(\"Enter the name of the new player.\")\n",
    "                self._players_raw.append([new_name])\n",
    "            if answer == 'remove':\n",
    "                random_player = random.choice(self._players_raw)\n",
    "                print(f\"REMOVING PLAYER: {random_player}\")\n",
    "                self._players_raw.remove(random_player)\n",
    "            \n",
    "    \n",
    "    def generate_problem_pairs_and_player_list(self):\n",
    "        \"\"\"\n",
    "        Build `self._problem_pairs` dictionary indicating who can't be paired\n",
    "        with whom and `self._individual_players` list, containing all players\n",
    "        \n",
    "        `_problem_pairs` (dict) Form:\n",
    "            {focal_player1 : [problemplayer1, problemplayer2],\n",
    "            focal_player2 : [problemplayer3, problemplayer4]}\n",
    "        \n",
    "        `_individual_players` (list) Form:\n",
    "            [player1, player2, ..., playerN]\n",
    "        \"\"\"\n",
    "\n",
    "        for player in self._players_raw:\n",
    "            \n",
    "            # Take first user, stripping extra whitespace\n",
    "            current_player = player[0].rstrip()\n",
    "            \n",
    "            # Add user to players list\n",
    "            self._individual_players.append(current_player)\n",
    "            \n",
    "            # Extra users are those we don't want to pair with `current_player`\n",
    "            dont_pair_players = player[1:]\n",
    "\n",
    "            if dont_pair_players != []:\n",
    "                self._problem_pairs[current_player] = dont_pair_players\n",
    "    \n",
    "    \n",
    "    def randomize_player_order(self):\n",
    "        \"\"\"\n",
    "        Shuffle player list. Also, puts users who have pair restrictions\n",
    "        at the front of the list to pair them first.\n",
    "        \"\"\"\n",
    "        restricted_players = list(self._problem_pairs.keys())\n",
    "        \n",
    "        for player in restricted_players:\n",
    "            self._individual_players.remove(player)\n",
    "\n",
    "        random.shuffle(self._individual_players)\n",
    "        random.shuffle(restricted_players)\n",
    "\n",
    "        self._individual_players = restricted_players + self._individual_players\n",
    "    \n",
    "    \n",
    "    def generate_teams(self):\n",
    "        \"\"\"\n",
    "        Create all teams taking into account players\n",
    "        who cannot be paired together.\n",
    "        \"\"\"\n",
    "        all_teams = []\n",
    "        problem_count = 0\n",
    "\n",
    "        while len(self._individual_players) > 0:\n",
    "            indv_player = self._individual_players.pop()\n",
    "\n",
    "            random_partner = random.choice(self._individual_players)\n",
    "\n",
    "            if random_partner not in self._problem_pairs[indv_player]:\n",
    "                self._individual_players.remove(random_partner)\n",
    "                self._teams.append(Team(indv_player, random_partner))\n",
    "            \n",
    "            # If we randomly choose a problem pair, we just keep\n",
    "            # choosing new ones until we find a match — or throw an\n",
    "            # error b/c this is very rare.\n",
    "            else:\n",
    "                switch = True\n",
    "                while switch:\n",
    "                    random_partner = random.choice(self._individual_players)\n",
    "\n",
    "                    if random_partner not in self._problem_pairs[indv_player]:\n",
    "                        self._individual_players.remove(random_partner)\n",
    "                        self._teams.append(Team(indv_player, random_partner))\n",
    "                        switch = False\n",
    "\n",
    "                    else:\n",
    "                        # Catch rare infinite loops.\n",
    "                        problem_count += 1\n",
    "                        if problem_count > 10:\n",
    "                            raise Exception(\n",
    "                                \"Ran into a very rare problem..\\n\\n\"\n",
    "                                \"Please restart the script again!!\"\n",
    "                            )\n",
    "\n",
    "                            \n",
    "    def generate_matches(self):\n",
    "        \"\"\"Randomly match teams to play one another\"\"\"\n",
    "        \n",
    "        random.shuffle(self._teams)\n",
    "        self._matchups = self.chunker(self._teams, size=2)\n",
    "    \n",
    "    \n",
    "    def print_matches(self):\n",
    "        \"\"\"Print the matchups!!\"\"\"\n",
    "        for game_num, match in enumerate(self._matchups, start=1):\n",
    "            \n",
    "            num_teams = len(match)\n",
    "            \n",
    "            # If we have two teams in a match up, we print that game\n",
    "            if num_teams == 2:\n",
    "                print(f\"Game {game_num}:   {match[0]}\\t vs.\\t {match[1]}\", end=\"\\n\\n\")\n",
    "            \n",
    "            # If there is only one team in a match, we had an odd number of teams\n",
    "            # so that team automatically advances to the next round\n",
    "            elif num_teams == 1:\n",
    "                print(f\"Automatically advances to second round: {match[0]}\")\n",
    "\n",
    "            else:\n",
    "                raise Exception(\"Unknown error\")"
   ]
  },
  {
   "cell_type": "code",
   "execution_count": 352,
   "metadata": {},
   "outputs": [],
   "source": [
    "BG = Bracket_Generator(file_path=file_path)"
   ]
  },
  {
   "cell_type": "code",
   "execution_count": 347,
   "metadata": {},
   "outputs": [
    {
     "data": {
      "text/plain": [
       "'../data/test_data.txt'"
      ]
     },
     "execution_count": 347,
     "metadata": {},
     "output_type": "execute_result"
    }
   ],
   "source": [
    "file_path"
   ]
  },
  {
   "cell_type": "code",
   "execution_count": 290,
   "metadata": {},
   "outputs": [
    {
     "data": {
      "text/plain": [
       "'../data/test_data.txt'"
      ]
     },
     "execution_count": 290,
     "metadata": {},
     "output_type": "execute_result"
    }
   ],
   "source": [
    "BG._file_path"
   ]
  },
  {
   "cell_type": "code",
   "execution_count": 353,
   "metadata": {},
   "outputs": [
    {
     "name": "stdout",
     "output_type": "stream",
     "text": [
      "Can't make teams of two with an odd number of players!!\n",
      "\n",
      "Input one of the two options below:\n",
      "\t 1. 'add' - to add a new player\n",
      "\t 2. 'remove' - to remove a random player from the current list\n",
      "add\n",
      "Enter the name of the new player.TITTAYYSSS\n"
     ]
    }
   ],
   "source": [
    "BG.load_names()"
   ]
  },
  {
   "cell_type": "code",
   "execution_count": 349,
   "metadata": {},
   "outputs": [
    {
     "data": {
      "text/plain": [
       "[['billy bob'],\n",
       " ['jimmy smith '],\n",
       " ['katy wentworth ', 'fuck face ', ' balls'],\n",
       " ['tiny time the big beast'],\n",
       " ['bubbleface mcgee'],\n",
       " ['tom brady'],\n",
       " ['the new guy'],\n",
       " ['another random'],\n",
       " ['last fool'],\n",
       " ['tomy']]"
      ]
     },
     "execution_count": 349,
     "metadata": {},
     "output_type": "execute_result"
    }
   ],
   "source": [
    "BG._players_raw\n"
   ]
  },
  {
   "cell_type": "code",
   "execution_count": 258,
   "metadata": {},
   "outputs": [
    {
     "name": "stdout",
     "output_type": "stream",
     "text": [
      "_file_path\n",
      "_individual_players\n",
      "_matchups\n",
      "_players_raw\n",
      "_problem_pairs\n",
      "_teams\n"
     ]
    }
   ],
   "source": [
    "for obj in dir(BG):\n",
    "    if (not obj.startswith(\"__\")) and (obj.startswith(\"_\")):\n",
    "        print(obj)"
   ]
  },
  {
   "cell_type": "code",
   "execution_count": 323,
   "metadata": {},
   "outputs": [
    {
     "data": {
      "text/plain": [
       "['katy wentworth',\n",
       " 'another random',\n",
       " 'tiny time the big beast',\n",
       " 'jimmy smith',\n",
       " 'last fool',\n",
       " 'the new guy',\n",
       " 'bubbleface mcgee',\n",
       " 'BUTT FUCK YOUR FACE',\n",
       " 'tom brady',\n",
       " 'billy bob']"
      ]
     },
     "execution_count": 323,
     "metadata": {},
     "output_type": "execute_result"
    }
   ],
   "source": [
    "BG._individual_players"
   ]
  },
  {
   "cell_type": "code",
   "execution_count": 354,
   "metadata": {},
   "outputs": [],
   "source": [
    "BG.generate_problem_pairs_and_player_list()\n",
    "\n",
    "BG.randomize_player_order()\n",
    "\n",
    "BG.generate_teams()\n",
    "\n",
    "BG._teams\n",
    "\n",
    "BG.generate_matches()"
   ]
  },
  {
   "cell_type": "code",
   "execution_count": 355,
   "metadata": {},
   "outputs": [
    {
     "name": "stdout",
     "output_type": "stream",
     "text": [
      "Game 1:   Billy Bob & Tiny Time The Big Beast\t vs.\t Tom Brady & Jimmy Smith\n",
      "\n",
      "Game 2:   Another Random & Bubbleface Mcgee\t vs.\t Last Fool & The New Guy\n",
      "\n",
      "Automatically advances to second round: Tittayysss & Katy Wentworth\n"
     ]
    }
   ],
   "source": [
    "BG.print_matches()"
   ]
  },
  {
   "cell_type": "code",
   "execution_count": 337,
   "metadata": {},
   "outputs": [
    {
     "data": {
      "text/plain": [
       "[[Team(Bubbleface Mcgee, Katy Wentworth), Team(Last Fool, Billy Bob)],\n",
       " [Team(Another Random, Tiny Time The Big Beast),\n",
       "  Team(Jimmy Smith, Butt Fucker Mcgee)],\n",
       " [Team(The New Guy, Tom Brady)]]"
      ]
     },
     "execution_count": 337,
     "metadata": {},
     "output_type": "execute_result"
    }
   ],
   "source": [
    "BG._matchups"
   ]
  },
  {
   "cell_type": "code",
   "execution_count": 344,
   "metadata": {},
   "outputs": [
    {
     "name": "stdout",
     "output_type": "stream",
     "text": [
      "Game 1:   Bubbleface Mcgee & Katy Wentworth\t vs.\t Last Fool & Billy Bob\n",
      "\n",
      "Game 2:   Another Random & Tiny Time The Big Beast\t vs.\t Jimmy Smith & Butt Fucker Mcgee\n",
      "\n",
      "Automatically advances to second round: The New Guy & Tom Brady\n"
     ]
    }
   ],
   "source": []
  },
  {
   "cell_type": "code",
   "execution_count": 161,
   "metadata": {},
   "outputs": [
    {
     "data": {
      "text/plain": [
       "['__class__',\n",
       " '__delattr__',\n",
       " '__dict__',\n",
       " '__dir__',\n",
       " '__doc__',\n",
       " '__eq__',\n",
       " '__format__',\n",
       " '__ge__',\n",
       " '__getattribute__',\n",
       " '__gt__',\n",
       " '__hash__',\n",
       " '__init__',\n",
       " '__init_subclass__',\n",
       " '__le__',\n",
       " '__lt__',\n",
       " '__module__',\n",
       " '__ne__',\n",
       " '__new__',\n",
       " '__reduce__',\n",
       " '__reduce_ex__',\n",
       " '__repr__',\n",
       " '__setattr__',\n",
       " '__sizeof__',\n",
       " '__str__',\n",
       " '__subclasshook__',\n",
       " '__weakref__',\n",
       " '_file_path',\n",
       " '_individual_players',\n",
       " '_matchups',\n",
       " '_players_raw',\n",
       " '_problem_pairs',\n",
       " '_teams',\n",
       " 'generate__problem_pairs_and_player_list',\n",
       " 'load_names',\n",
       " 'randomize_player_order']"
      ]
     },
     "execution_count": 161,
     "metadata": {},
     "output_type": "execute_result"
    }
   ],
   "source": [
    "dir(BG)"
   ]
  },
  {
   "cell_type": "code",
   "execution_count": 153,
   "metadata": {},
   "outputs": [
    {
     "data": {
      "text/plain": [
       "[['billy bob'],\n",
       " ['jimmy smith '],\n",
       " ['katy wentworth ', 'fuck face'],\n",
       " ['tiny time the big beast'],\n",
       " ['bubbleface mcgee'],\n",
       " ['tom brady'],\n",
       " ['the new guy'],\n",
       " ['another random'],\n",
       " ['last fool']]"
      ]
     },
     "execution_count": 153,
     "metadata": {},
     "output_type": "execute_result"
    }
   ],
   "source": [
    "BG.players_raw"
   ]
  },
  {
   "cell_type": "code",
   "execution_count": 139,
   "metadata": {},
   "outputs": [],
   "source": [
    "test = [1]"
   ]
  },
  {
   "cell_type": "code",
   "execution_count": 140,
   "metadata": {},
   "outputs": [
    {
     "data": {
      "text/plain": [
       "[]"
      ]
     },
     "execution_count": 140,
     "metadata": {},
     "output_type": "execute_result"
    }
   ],
   "source": [
    "test[1:]"
   ]
  },
  {
   "cell_type": "code",
   "execution_count": 143,
   "metadata": {},
   "outputs": [
    {
     "name": "stdout",
     "output_type": "stream",
     "text": [
      ".katy wentworth\n",
      ".katy wentworth\n",
      ".katy wentworth\n",
      ".katy wentworth\n",
      ".katy wentworth\n",
      ".katy wentworth\n",
      ".katy wentworth\n",
      ".katy wentworth\n",
      ".katy wentworth\n",
      ".katy wentworth\n",
      ".katy wentworth\n",
      ".katy wentworth\n",
      ".katy wentworth\n",
      ".katy wentworth\n",
      ".katy wentworth\n",
      ".katy wentworth\n",
      ".katy wentworth\n",
      ".katy wentworth\n",
      ".katy wentworth\n",
      ".katy wentworth\n",
      ".katy wentworth\n",
      ".katy wentworth\n",
      ".katy wentworth\n",
      ".katy wentworth\n",
      ".katy wentworth\n",
      ".katy wentworth\n",
      ".katy wentworth\n",
      ".katy wentworth\n",
      ".katy wentworth\n",
      ".katy wentworth\n",
      ".katy wentworth\n",
      ".katy wentworth\n",
      ".katy wentworth\n",
      ".katy wentworth\n",
      ".katy wentworth\n",
      ".katy wentworth\n",
      ".katy wentworth\n",
      ".katy wentworth\n",
      ".katy wentworth\n",
      ".katy wentworth\n",
      ".katy wentworth\n",
      ".katy wentworth\n",
      ".katy wentworth\n",
      ".katy wentworth\n",
      ".katy wentworth\n",
      ".katy wentworth\n",
      ".katy wentworth\n",
      ".katy wentworth\n",
      ".katy wentworth\n",
      ".katy wentworth\n",
      ".katy wentworth\n",
      ".katy wentworth\n",
      ".katy wentworth\n",
      ".katy wentworth\n",
      ".katy wentworth\n",
      ".katy wentworth\n",
      ".katy wentworth\n",
      ".katy wentworth\n",
      ".katy wentworth\n",
      ".katy wentworth\n",
      ".katy wentworth\n",
      ".katy wentworth\n",
      ".katy wentworth\n",
      ".katy wentworth\n",
      ".katy wentworth\n",
      ".katy wentworth\n",
      ".katy wentworth\n",
      ".katy wentworth\n",
      ".katy wentworth\n",
      ".katy wentworth\n",
      ".katy wentworth\n",
      ".katy wentworth\n",
      ".katy wentworth\n",
      ".katy wentworth\n",
      ".katy wentworth\n",
      ".katy wentworth\n",
      ".katy wentworth\n",
      ".katy wentworth\n",
      ".katy wentworth\n",
      ".katy wentworth\n",
      ".katy wentworth\n",
      ".katy wentworth\n",
      ".katy wentworth\n",
      ".katy wentworth\n",
      ".katy wentworth\n",
      ".katy wentworth\n",
      ".katy wentworth\n",
      ".katy wentworth\n",
      ".katy wentworth\n",
      ".katy wentworth\n",
      ".katy wentworth\n",
      ".katy wentworth\n",
      ".katy wentworth\n",
      ".katy wentworth\n",
      ".katy wentworth\n",
      ".katy wentworth\n",
      ".katy wentworth\n",
      ".katy wentworth\n",
      ".katy wentworth\n",
      ".katy wentworth\n",
      ".katy wentworth\n",
      ".katy wentworth\n",
      ".katy wentworth\n",
      ".katy wentworth\n",
      ".katy wentworth\n",
      ".katy wentworth\n",
      ".katy wentworth\n",
      ".katy wentworth\n",
      ".katy wentworth\n",
      ".katy wentworth\n",
      ".katy wentworth\n",
      ".katy wentworth\n",
      ".katy wentworth\n",
      ".katy wentworth\n",
      ".katy wentworth\n",
      ".katy wentworth\n",
      ".katy wentworth\n",
      ".katy wentworth\n",
      ".katy wentworth\n",
      ".katy wentworth\n",
      ".katy wentworth\n",
      ".katy wentworth\n",
      ".katy wentworth\n",
      ".katy wentworth\n",
      ".katy wentworth\n",
      ".katy wentworth\n",
      ".katy wentworth\n",
      ".katy wentworth\n",
      ".katy wentworth\n",
      ".katy wentworth\n",
      ".katy wentworth\n",
      ".katy wentworth\n",
      ".katy wentworth\n",
      ".katy wentworth\n",
      ".katy wentworth\n",
      ".katy wentworth\n",
      ".katy wentworth\n",
      ".katy wentworth\n",
      ".katy wentworth\n",
      ".katy wentworth\n",
      ".katy wentworth\n",
      ".katy wentworth\n",
      ".katy wentworth\n",
      ".katy wentworth\n",
      ".katy wentworth\n",
      ".katy wentworth\n",
      ".katy wentworth\n",
      ".katy wentworth\n",
      ".katy wentworth\n",
      ".katy wentworth\n",
      ".katy wentworth\n",
      ".katy wentworth\n",
      ".katy wentworth\n",
      ".katy wentworth\n",
      ".katy wentworth\n",
      ".katy wentworth\n",
      ".katy wentworth\n",
      ".katy wentworth\n",
      ".katy wentworth\n",
      ".katy wentworth\n",
      ".katy wentworth\n",
      ".katy wentworth\n",
      ".katy wentworth\n",
      ".katy wentworth\n",
      ".katy wentworth\n",
      ".katy wentworth\n",
      ".katy wentworth\n",
      ".katy wentworth\n",
      ".katy wentworth\n",
      ".katy wentworth\n",
      ".katy wentworth\n",
      ".katy wentworth\n",
      ".katy wentworth\n",
      ".katy wentworth\n",
      ".katy wentworth\n",
      ".katy wentworth\n",
      ".katy wentworth\n",
      ".katy wentworth\n",
      ".katy wentworth\n",
      ".katy wentworth\n",
      ".katy wentworth\n",
      ".katy wentworth\n",
      ".katy wentworth\n",
      ".katy wentworth\n",
      ".katy wentworth\n",
      ".katy wentworth\n",
      ".katy wentworth\n",
      ".katy wentworth\n",
      ".katy wentworth\n",
      ".katy wentworth\n",
      ".katy wentworth\n",
      ".katy wentworth\n",
      ".katy wentworth\n",
      ".katy wentworth\n",
      ".katy wentworth\n",
      ".katy wentworth\n",
      ".katy wentworth\n",
      ".katy wentworth\n",
      ".katy wentworth\n",
      ".katy wentworth\n",
      ".katy wentworth\n",
      ".katy wentworth\n",
      ".katy wentworth\n",
      ".katy wentworth\n",
      ".katy wentworth\n",
      ".katy wentworth\n",
      ".katy wentworth\n",
      ".katy wentworth\n",
      ".katy wentworth\n",
      ".katy wentworth\n",
      ".katy wentworth\n",
      ".katy wentworth\n",
      ".katy wentworth\n",
      ".katy wentworth\n",
      ".katy wentworth\n",
      ".katy wentworth\n",
      ".katy wentworth\n",
      ".katy wentworth\n",
      ".katy wentworth\n",
      ".katy wentworth\n",
      ".katy wentworth\n",
      ".katy wentworth\n",
      ".katy wentworth\n",
      ".katy wentworth\n",
      ".katy wentworth\n",
      ".katy wentworth\n",
      ".katy wentworth\n",
      ".katy wentworth\n",
      ".katy wentworth\n",
      ".katy wentworth\n",
      ".katy wentworth\n",
      ".katy wentworth\n",
      ".katy wentworth\n",
      ".katy wentworth\n",
      ".katy wentworth\n",
      ".katy wentworth\n",
      ".katy wentworth\n",
      ".katy wentworth\n",
      ".katy wentworth\n",
      ".katy wentworth\n",
      ".katy wentworth\n",
      ".katy wentworth\n",
      ".katy wentworth\n",
      ".katy wentworth\n",
      ".katy wentworth\n",
      ".katy wentworth\n",
      ".katy wentworth\n",
      ".katy wentworth\n",
      ".katy wentworth\n",
      ".katy wentworth\n",
      ".katy wentworth\n",
      ".katy wentworth\n",
      ".katy wentworth\n",
      ".katy wentworth\n",
      ".katy wentworth\n",
      ".katy wentworth\n",
      ".katy wentworth\n",
      ".katy wentworth\n",
      ".katy wentworth\n",
      ".katy wentworth\n",
      ".katy wentworth\n",
      ".katy wentworth\n",
      ".katy wentworth\n",
      ".katy wentworth\n",
      ".katy wentworth\n",
      ".katy wentworth\n",
      ".katy wentworth\n",
      ".katy wentworth\n",
      ".katy wentworth\n",
      ".katy wentworth\n",
      ".katy wentworth\n",
      ".katy wentworth\n",
      ".katy wentworth\n",
      ".katy wentworth\n",
      ".katy wentworth\n",
      ".katy wentworth\n",
      ".katy wentworth\n",
      ".katy wentworth\n",
      ".katy wentworth\n",
      ".katy wentworth\n",
      ".katy wentworth\n",
      ".katy wentworth\n",
      ".katy wentworth\n",
      ".katy wentworth\n",
      ".katy wentworth\n",
      ".katy wentworth\n",
      ".katy wentworth\n",
      ".katy wentworth\n",
      ".katy wentworth\n",
      ".katy wentworth\n",
      ".katy wentworth\n",
      ".katy wentworth\n",
      ".katy wentworth\n",
      ".katy wentworth\n",
      ".katy wentworth\n",
      ".katy wentworth\n",
      ".katy wentworth\n",
      ".katy wentworth\n",
      ".katy wentworth\n",
      ".katy wentworth\n",
      ".katy wentworth\n",
      ".katy wentworth\n",
      ".katy wentworth\n",
      ".katy wentworth\n",
      ".katy wentworth\n",
      ".katy wentworth\n",
      ".katy wentworth\n",
      ".katy wentworth\n",
      ".katy wentworth\n",
      ".katy wentworth\n",
      ".katy wentworth\n",
      ".katy wentworth\n",
      ".katy wentworth\n",
      ".katy wentworth\n",
      ".katy wentworth\n",
      ".katy wentworth\n",
      ".katy wentworth\n",
      ".katy wentworth\n",
      ".katy wentworth\n",
      ".katy wentworth\n",
      ".katy wentworth\n",
      ".katy wentworth\n",
      ".katy wentworth\n",
      ".katy wentworth\n",
      ".katy wentworth\n",
      ".katy wentworth\n",
      ".katy wentworth\n",
      ".katy wentworth\n",
      ".katy wentworth\n",
      ".katy wentworth\n",
      ".katy wentworth\n",
      ".katy wentworth\n",
      ".katy wentworth\n",
      ".katy wentworth\n",
      ".katy wentworth\n",
      ".katy wentworth\n",
      ".katy wentworth\n",
      ".katy wentworth\n",
      ".katy wentworth\n",
      ".katy wentworth\n",
      ".katy wentworth\n",
      ".katy wentworth\n",
      ".katy wentworth\n",
      ".katy wentworth\n",
      ".katy wentworth\n",
      ".katy wentworth\n",
      ".katy wentworth\n",
      ".katy wentworth\n",
      ".katy wentworth\n",
      ".katy wentworth\n",
      ".katy wentworth\n",
      ".katy wentworth\n",
      ".katy wentworth\n",
      ".katy wentworth\n",
      ".katy wentworth\n",
      ".katy wentworth\n",
      ".katy wentworth\n",
      ".katy wentworth\n",
      ".katy wentworth\n",
      ".katy wentworth\n",
      ".katy wentworth\n",
      ".katy wentworth\n",
      ".katy wentworth\n",
      ".katy wentworth\n",
      ".katy wentworth\n",
      ".katy wentworth\n",
      ".katy wentworth\n",
      ".katy wentworth\n",
      ".katy wentworth\n",
      ".katy wentworth\n",
      ".katy wentworth\n",
      ".katy wentworth\n",
      ".katy wentworth\n",
      ".katy wentworth\n",
      ".katy wentworth\n",
      ".katy wentworth\n",
      ".katy wentworth\n",
      ".katy wentworth\n",
      ".katy wentworth\n",
      ".katy wentworth\n",
      ".katy wentworth\n",
      ".katy wentworth\n",
      ".katy wentworth\n",
      ".katy wentworth\n",
      ".katy wentworth\n",
      ".katy wentworth\n",
      ".katy wentworth\n",
      ".katy wentworth\n",
      ".katy wentworth\n",
      ".katy wentworth\n",
      ".katy wentworth\n",
      ".katy wentworth\n",
      ".katy wentworth\n",
      ".katy wentworth\n",
      ".katy wentworth\n",
      ".katy wentworth\n",
      ".katy wentworth\n",
      ".katy wentworth\n",
      ".katy wentworth\n",
      ".katy wentworth\n",
      ".katy wentworth\n",
      ".katy wentworth\n",
      ".katy wentworth\n",
      ".katy wentworth\n",
      ".katy wentworth\n",
      ".katy wentworth\n",
      ".katy wentworth\n",
      ".katy wentworth\n",
      ".katy wentworth\n",
      ".katy wentworth\n",
      ".katy wentworth\n",
      ".katy wentworth\n",
      ".katy wentworth\n",
      ".katy wentworth\n",
      ".katy wentworth\n",
      ".katy wentworth\n",
      ".katy wentworth\n",
      ".katy wentworth\n",
      ".katy wentworth\n",
      ".katy wentworth\n",
      ".katy wentworth\n",
      ".katy wentworth\n",
      ".katy wentworth\n",
      ".katy wentworth\n",
      ".katy wentworth\n",
      ".katy wentworth\n",
      ".katy wentworth\n",
      ".katy wentworth\n",
      ".katy wentworth\n",
      ".katy wentworth\n",
      ".katy wentworth\n",
      ".katy wentworth\n",
      ".katy wentworth\n",
      ".katy wentworth\n",
      ".katy wentworth\n",
      ".katy wentworth\n",
      ".katy wentworth\n",
      ".katy wentworth\n",
      ".katy wentworth\n",
      ".katy wentworth\n",
      ".katy wentworth\n",
      ".katy wentworth\n",
      ".katy wentworth\n",
      ".katy wentworth\n",
      ".katy wentworth\n",
      ".katy wentworth\n",
      ".katy wentworth\n",
      ".katy wentworth\n",
      ".katy wentworth\n",
      ".katy wentworth\n",
      ".katy wentworth\n",
      ".katy wentworth\n",
      ".katy wentworth\n",
      ".katy wentworth\n",
      ".katy wentworth\n",
      ".katy wentworth\n",
      ".katy wentworth\n",
      ".katy wentworth\n",
      ".katy wentworth\n",
      ".katy wentworth\n",
      ".katy wentworth\n",
      ".katy wentworth\n",
      ".katy wentworth\n",
      ".katy wentworth\n",
      ".katy wentworth\n",
      ".katy wentworth\n",
      ".katy wentworth\n",
      ".katy wentworth\n",
      ".katy wentworth\n",
      ".katy wentworth\n",
      ".katy wentworth\n",
      ".katy wentworth\n",
      ".katy wentworth\n",
      ".katy wentworth\n",
      ".katy wentworth\n",
      ".katy wentworth\n",
      ".katy wentworth\n",
      ".katy wentworth\n",
      ".katy wentworth\n",
      ".katy wentworth\n",
      ".katy wentworth\n",
      ".katy wentworth\n",
      ".katy wentworth\n",
      ".katy wentworth\n",
      ".katy wentworth\n",
      ".katy wentworth\n",
      ".katy wentworth\n",
      ".katy wentworth\n",
      ".katy wentworth\n",
      ".katy wentworth\n",
      ".katy wentworth\n",
      ".katy wentworth\n",
      ".katy wentworth\n",
      ".katy wentworth\n",
      ".katy wentworth\n",
      ".katy wentworth\n",
      ".katy wentworth\n",
      ".katy wentworth\n",
      ".katy wentworth\n",
      ".katy wentworth\n",
      ".katy wentworth\n",
      ".katy wentworth\n",
      ".katy wentworth\n",
      ".katy wentworth\n",
      ".katy wentworth\n",
      ".katy wentworth\n",
      ".katy wentworth\n",
      ".katy wentworth\n",
      ".katy wentworth\n",
      ".katy wentworth\n",
      ".katy wentworth\n",
      ".katy wentworth\n",
      ".katy wentworth\n",
      ".katy wentworth\n",
      ".katy wentworth\n",
      ".katy wentworth\n",
      ".katy wentworth\n",
      ".katy wentworth\n",
      ".katy wentworth\n",
      ".katy wentworth\n",
      ".katy wentworth\n",
      ".katy wentworth\n",
      ".katy wentworth\n",
      ".katy wentworth\n",
      ".katy wentworth\n",
      ".katy wentworth\n",
      ".katy wentworth\n",
      ".katy wentworth\n",
      ".katy wentworth\n",
      ".katy wentworth\n",
      ".katy wentworth\n",
      ".katy wentworth\n",
      ".katy wentworth\n",
      ".katy wentworth\n",
      ".katy wentworth\n",
      ".katy wentworth\n",
      ".katy wentworth\n",
      ".katy wentworth\n",
      ".katy wentworth\n",
      ".katy wentworth\n",
      ".katy wentworth\n",
      ".katy wentworth\n",
      ".katy wentworth\n",
      ".katy wentworth\n",
      ".katy wentworth\n",
      ".katy wentworth\n",
      ".katy wentworth\n",
      ".katy wentworth\n",
      ".katy wentworth\n",
      ".katy wentworth\n",
      ".katy wentworth\n",
      ".katy wentworth\n",
      ".katy wentworth\n",
      ".katy wentworth\n",
      ".katy wentworth\n",
      ".katy wentworth\n",
      ".katy wentworth\n",
      ".katy wentworth\n",
      ".katy wentworth\n",
      ".katy wentworth\n",
      ".katy wentworth\n",
      ".katy wentworth\n",
      ".katy wentworth\n",
      ".katy wentworth\n",
      ".katy wentworth\n",
      ".katy wentworth\n",
      ".katy wentworth\n",
      ".katy wentworth\n",
      ".katy wentworth\n",
      ".katy wentworth\n",
      ".katy wentworth\n",
      ".katy wentworth\n",
      ".katy wentworth\n",
      ".katy wentworth\n",
      ".katy wentworth\n",
      ".katy wentworth\n",
      ".katy wentworth\n",
      ".katy wentworth\n",
      ".katy wentworth\n",
      ".katy wentworth\n",
      ".katy wentworth\n",
      ".katy wentworth\n",
      ".katy wentworth\n",
      ".katy wentworth\n",
      ".katy wentworth\n",
      ".katy wentworth\n",
      ".katy wentworth\n",
      ".katy wentworth\n",
      ".katy wentworth\n",
      ".katy wentworth\n",
      ".katy wentworth\n",
      ".katy wentworth\n",
      ".katy wentworth\n",
      ".katy wentworth\n",
      ".katy wentworth\n",
      ".katy wentworth\n",
      ".katy wentworth\n",
      ".katy wentworth\n",
      ".katy wentworth\n",
      ".katy wentworth\n",
      ".katy wentworth\n",
      ".katy wentworth\n",
      ".katy wentworth\n",
      ".katy wentworth\n",
      ".katy wentworth\n",
      ".katy wentworth\n",
      ".katy wentworth\n",
      ".katy wentworth\n",
      ".katy wentworth\n",
      ".katy wentworth\n",
      ".katy wentworth\n",
      ".katy wentworth\n",
      ".katy wentworth\n",
      ".katy wentworth\n",
      ".katy wentworth\n",
      ".katy wentworth\n",
      ".katy wentworth\n",
      ".katy wentworth\n",
      ".katy wentworth\n",
      ".katy wentworth\n",
      ".katy wentworth\n",
      ".katy wentworth\n",
      ".katy wentworth\n",
      ".katy wentworth\n",
      ".katy wentworth\n",
      ".katy wentworth\n",
      ".katy wentworth\n",
      ".katy wentworth\n",
      ".katy wentworth\n",
      ".katy wentworth\n",
      ".katy wentworth\n",
      ".katy wentworth\n",
      ".katy wentworth\n",
      ".katy wentworth\n",
      ".katy wentworth\n",
      ".katy wentworth\n",
      ".katy wentworth\n",
      ".katy wentworth\n",
      ".katy wentworth\n",
      ".katy wentworth\n",
      ".katy wentworth\n",
      ".katy wentworth\n",
      ".katy wentworth\n",
      ".katy wentworth\n",
      ".katy wentworth\n",
      ".katy wentworth\n"
     ]
    },
    {
     "name": "stdout",
     "output_type": "stream",
     "text": [
      ".katy wentworth\n",
      ".katy wentworth\n",
      ".katy wentworth\n",
      ".katy wentworth\n",
      ".katy wentworth\n",
      ".katy wentworth\n",
      ".katy wentworth\n",
      ".katy wentworth\n",
      ".katy wentworth\n",
      ".katy wentworth\n",
      ".katy wentworth\n",
      ".katy wentworth\n",
      ".katy wentworth\n",
      ".katy wentworth\n",
      ".katy wentworth\n",
      ".katy wentworth\n",
      ".katy wentworth\n",
      ".katy wentworth\n",
      ".katy wentworth\n",
      ".katy wentworth\n",
      ".katy wentworth\n",
      ".katy wentworth\n",
      ".katy wentworth\n",
      ".katy wentworth\n",
      ".katy wentworth\n",
      ".katy wentworth\n",
      ".katy wentworth\n",
      ".katy wentworth\n",
      ".katy wentworth\n",
      ".katy wentworth\n",
      ".katy wentworth\n",
      ".katy wentworth\n",
      ".katy wentworth\n",
      ".katy wentworth\n",
      ".katy wentworth\n",
      ".katy wentworth\n",
      ".katy wentworth\n",
      ".katy wentworth\n",
      ".katy wentworth\n",
      ".katy wentworth\n",
      ".katy wentworth\n",
      ".katy wentworth\n",
      ".katy wentworth\n",
      ".katy wentworth\n",
      ".katy wentworth\n",
      ".katy wentworth\n",
      ".katy wentworth\n",
      ".katy wentworth\n",
      ".katy wentworth\n",
      ".katy wentworth\n",
      ".katy wentworth\n",
      ".katy wentworth\n",
      ".katy wentworth\n",
      ".katy wentworth\n",
      ".katy wentworth\n",
      ".katy wentworth\n",
      ".katy wentworth\n",
      ".katy wentworth\n",
      ".katy wentworth\n",
      ".katy wentworth\n",
      ".katy wentworth\n",
      ".katy wentworth\n",
      ".katy wentworth\n",
      ".katy wentworth\n",
      ".katy wentworth\n",
      ".katy wentworth\n",
      ".katy wentworth\n",
      ".katy wentworth\n",
      ".katy wentworth\n",
      ".katy wentworth\n",
      ".katy wentworth\n",
      ".katy wentworth\n",
      ".katy wentworth\n",
      ".katy wentworth\n",
      ".katy wentworth\n",
      ".katy wentworth\n",
      ".katy wentworth\n",
      ".katy wentworth\n",
      ".katy wentworth\n",
      ".katy wentworth\n",
      ".katy wentworth\n",
      ".katy wentworth\n",
      ".katy wentworth\n",
      ".katy wentworth\n",
      ".katy wentworth\n",
      ".katy wentworth\n",
      ".katy wentworth\n",
      ".katy wentworth\n",
      ".katy wentworth\n",
      ".katy wentworth\n",
      ".katy wentworth\n",
      ".katy wentworth\n",
      ".katy wentworth\n",
      ".katy wentworth\n",
      ".katy wentworth\n",
      ".katy wentworth\n",
      ".katy wentworth\n",
      ".katy wentworth\n",
      ".katy wentworth\n",
      ".katy wentworth\n",
      ".katy wentworth\n",
      ".katy wentworth\n",
      ".katy wentworth\n",
      ".katy wentworth\n",
      ".katy wentworth\n",
      ".katy wentworth\n",
      ".katy wentworth\n",
      ".katy wentworth\n",
      ".katy wentworth\n",
      ".katy wentworth\n",
      ".katy wentworth\n",
      ".katy wentworth\n",
      ".katy wentworth\n",
      ".katy wentworth\n",
      ".katy wentworth\n",
      ".katy wentworth\n",
      ".katy wentworth\n",
      ".katy wentworth\n",
      ".katy wentworth\n",
      ".katy wentworth\n",
      ".katy wentworth\n",
      ".katy wentworth\n",
      ".katy wentworth\n",
      ".katy wentworth\n",
      ".katy wentworth\n",
      ".katy wentworth\n",
      ".katy wentworth\n",
      ".katy wentworth\n",
      ".katy wentworth\n",
      ".katy wentworth\n",
      ".katy wentworth\n",
      ".katy wentworth\n",
      ".katy wentworth\n",
      ".katy wentworth\n",
      ".katy wentworth\n",
      ".katy wentworth\n",
      ".katy wentworth\n",
      ".katy wentworth\n",
      ".katy wentworth\n",
      ".katy wentworth\n",
      ".katy wentworth\n",
      ".katy wentworth\n",
      ".katy wentworth\n",
      ".katy wentworth\n",
      ".katy wentworth\n",
      ".katy wentworth\n",
      ".katy wentworth\n",
      ".katy wentworth\n",
      ".katy wentworth\n",
      ".katy wentworth\n",
      ".katy wentworth\n",
      ".katy wentworth\n",
      ".katy wentworth\n",
      ".katy wentworth\n",
      ".katy wentworth\n",
      ".katy wentworth\n",
      ".katy wentworth\n",
      ".katy wentworth\n",
      ".katy wentworth\n",
      ".katy wentworth\n",
      ".katy wentworth\n",
      ".katy wentworth\n",
      ".katy wentworth\n",
      ".katy wentworth\n",
      ".katy wentworth\n",
      ".katy wentworth\n",
      ".katy wentworth\n",
      ".katy wentworth\n",
      ".katy wentworth\n",
      ".katy wentworth\n",
      ".katy wentworth\n",
      ".katy wentworth\n",
      ".katy wentworth\n",
      ".katy wentworth\n",
      ".katy wentworth\n",
      ".katy wentworth\n",
      ".katy wentworth\n",
      ".katy wentworth\n",
      ".katy wentworth\n",
      ".katy wentworth\n",
      ".katy wentworth\n",
      ".katy wentworth\n",
      ".katy wentworth\n",
      ".katy wentworth\n",
      ".katy wentworth\n",
      ".katy wentworth\n",
      ".katy wentworth\n",
      ".katy wentworth\n",
      ".katy wentworth\n",
      ".katy wentworth\n",
      ".katy wentworth\n",
      ".katy wentworth\n",
      ".katy wentworth\n",
      ".katy wentworth\n",
      ".katy wentworth\n",
      ".katy wentworth\n",
      ".katy wentworth\n",
      ".katy wentworth\n",
      ".katy wentworth\n",
      ".katy wentworth\n",
      ".katy wentworth\n",
      ".katy wentworth\n",
      ".katy wentworth\n",
      ".katy wentworth\n",
      ".katy wentworth\n",
      ".katy wentworth\n",
      ".katy wentworth\n",
      ".katy wentworth\n",
      ".katy wentworth\n",
      ".katy wentworth\n",
      ".katy wentworth\n",
      ".katy wentworth\n",
      ".katy wentworth\n",
      ".katy wentworth\n",
      ".katy wentworth\n",
      ".katy wentworth\n",
      ".katy wentworth\n",
      ".katy wentworth\n",
      ".katy wentworth\n",
      ".katy wentworth\n",
      ".katy wentworth\n",
      ".katy wentworth\n",
      ".katy wentworth\n",
      ".katy wentworth\n",
      ".katy wentworth\n",
      ".katy wentworth\n",
      ".katy wentworth\n",
      ".katy wentworth\n",
      ".katy wentworth\n",
      ".katy wentworth\n",
      ".katy wentworth\n",
      ".katy wentworth\n",
      ".katy wentworth\n",
      ".katy wentworth\n",
      ".katy wentworth\n",
      ".katy wentworth\n",
      ".katy wentworth\n",
      ".katy wentworth\n",
      ".katy wentworth\n",
      ".katy wentworth\n",
      ".katy wentworth\n",
      ".katy wentworth\n",
      ".katy wentworth\n",
      ".katy wentworth\n",
      ".katy wentworth\n",
      ".katy wentworth\n",
      ".katy wentworth\n",
      ".katy wentworth\n",
      ".katy wentworth\n",
      ".katy wentworth\n",
      ".katy wentworth\n",
      ".katy wentworth\n",
      ".katy wentworth\n",
      ".katy wentworth\n",
      ".katy wentworth\n",
      ".katy wentworth\n",
      ".katy wentworth\n",
      ".katy wentworth\n",
      ".katy wentworth\n",
      ".katy wentworth\n",
      ".katy wentworth\n",
      ".katy wentworth\n",
      ".katy wentworth\n",
      ".katy wentworth\n",
      ".katy wentworth\n",
      ".katy wentworth\n",
      ".katy wentworth\n",
      ".katy wentworth\n",
      ".katy wentworth\n",
      ".katy wentworth\n",
      ".katy wentworth\n",
      ".katy wentworth\n",
      ".katy wentworth\n",
      ".katy wentworth\n",
      ".katy wentworth\n",
      ".katy wentworth\n",
      ".katy wentworth\n",
      ".katy wentworth\n",
      ".katy wentworth\n",
      ".katy wentworth\n",
      ".katy wentworth\n",
      ".katy wentworth\n",
      ".katy wentworth\n",
      ".katy wentworth\n",
      ".katy wentworth\n",
      ".katy wentworth\n",
      ".katy wentworth\n",
      ".katy wentworth\n",
      ".katy wentworth\n",
      ".katy wentworth\n",
      ".katy wentworth\n",
      ".katy wentworth\n",
      ".katy wentworth\n",
      ".katy wentworth\n",
      ".katy wentworth\n",
      ".katy wentworth\n",
      ".katy wentworth\n",
      ".katy wentworth\n",
      ".katy wentworth\n",
      ".katy wentworth\n",
      ".katy wentworth\n",
      ".katy wentworth\n",
      ".katy wentworth\n",
      ".katy wentworth\n",
      ".katy wentworth\n",
      ".katy wentworth\n",
      ".katy wentworth\n",
      ".katy wentworth\n",
      ".katy wentworth\n",
      ".katy wentworth\n",
      ".katy wentworth\n",
      ".katy wentworth\n",
      ".katy wentworth\n",
      ".katy wentworth\n",
      ".katy wentworth\n",
      ".katy wentworth\n",
      ".katy wentworth\n",
      ".katy wentworth\n",
      ".katy wentworth\n",
      ".katy wentworth\n",
      ".katy wentworth\n",
      ".katy wentworth\n",
      ".katy wentworth\n",
      ".katy wentworth\n",
      ".katy wentworth\n",
      ".katy wentworth\n",
      ".katy wentworth\n",
      ".katy wentworth\n",
      ".katy wentworth\n",
      ".katy wentworth\n",
      ".katy wentworth\n",
      ".katy wentworth\n",
      ".katy wentworth\n",
      ".katy wentworth\n",
      ".katy wentworth\n",
      ".katy wentworth\n",
      ".katy wentworth\n",
      ".katy wentworth\n",
      ".katy wentworth\n",
      ".katy wentworth\n",
      ".katy wentworth\n",
      ".katy wentworth\n",
      ".katy wentworth\n",
      ".katy wentworth\n",
      ".katy wentworth\n",
      ".katy wentworth\n",
      ".katy wentworth\n",
      ".katy wentworth\n",
      ".katy wentworth\n",
      ".katy wentworth\n",
      ".katy wentworth\n",
      ".katy wentworth\n",
      ".katy wentworth\n",
      ".katy wentworth\n"
     ]
    }
   ],
   "source": [
    "# Load data\n",
    "\n",
    "problems = []\n",
    "\n",
    "for x in range(1000):\n",
    "    print(\".\",end=\"\")\n",
    "\n",
    "    with open(file_path, \"r\") as f:\n",
    "        players = [line.rstrip(\"\\n\").split(\"!!\") for line in f]\n",
    "\n",
    "    cant_pair = defaultdict(list)\n",
    "\n",
    "    individual_players = []\n",
    "\n",
    "    for player in players:\n",
    "\n",
    "        current_player = player[0].rstrip()\n",
    "        dont_pair_players = player[1:]\n",
    "\n",
    "        individual_players.append(current_player)\n",
    "\n",
    "        if dont_pair_players != []:\n",
    "            print(current_player)\n",
    "            cant_pair[current_player] = dont_pair_players\n",
    "\n",
    "    annoying_players = list(cant_pair.keys())\n",
    "\n",
    "    for player in annoying_players:\n",
    "        individual_players.remove(player)\n",
    "\n",
    "    individual_players.pop()\n",
    "\n",
    "    random.shuffle(individual_players)\n",
    "    random.shuffle(annoying_players)\n",
    "\n",
    "    individual_players = annoying_players + individual_players\n",
    "\n",
    "    # Build Teams\n",
    "\n",
    "    all_teams = []\n",
    "    problem_count = 0\n",
    "\n",
    "    while len(individual_players) > 0:\n",
    "        indv_player = individual_players.pop()\n",
    "\n",
    "        random_partner = random.choice(individual_players)\n",
    "\n",
    "        if random_partner not in cant_pair[indv_player]:\n",
    "            individual_players.remove(random_partner)\n",
    "            new_team = Team(indv_player, random_partner)\n",
    "            all_teams.append(new_team)\n",
    "\n",
    "        else:\n",
    "            switch = True\n",
    "            while switch:\n",
    "                random_partner = random.choice(individual_players)\n",
    "\n",
    "                if random_partner not in cant_pair[indv_player]:\n",
    "                    individual_players.remove(random_partner)\n",
    "                    new_team = Team(indv_player, random_partner)\n",
    "                    all_teams.append(new_team)\n",
    "                    switch = False\n",
    "\n",
    "                else:\n",
    "                    # Catch rare infinite loops.\n",
    "                    problem_count += 1\n",
    "                    if problem_count > 10:\n",
    "                        raise Exception(\n",
    "                            \"Ran into a very rare problem..\\n\\n\"\n",
    "                            \"Please restart the script again!!\"\n",
    "                        )\n",
    "\n",
    "#     # Print the teams\n",
    "#     for idx, team in enumerate(all_teams, start=1):\n",
    "#         print(f\"Team #{idx}\")\n",
    "#         print(team.player1)\n",
    "#         print(team.player2)\n",
    "#         print(\"\\n\")"
   ]
  },
  {
   "cell_type": "code",
   "execution_count": 144,
   "metadata": {},
   "outputs": [
    {
     "data": {
      "text/plain": [
       "[]"
      ]
     },
     "execution_count": 144,
     "metadata": {},
     "output_type": "execute_result"
    }
   ],
   "source": [
    "problems"
   ]
  },
  {
   "cell_type": "code",
   "execution_count": 145,
   "metadata": {},
   "outputs": [
    {
     "ename": "NameError",
     "evalue": "name 'teams' is not defined",
     "output_type": "error",
     "traceback": [
      "\u001b[0;31m------------------------------------------------------\u001b[0m",
      "\u001b[0;31mNameError\u001b[0m            Traceback (most recent call last)",
      "\u001b[0;32m<ipython-input-145-476139b2bc59>\u001b[0m in \u001b[0;36m<module>\u001b[0;34m\u001b[0m\n\u001b[0;32m----> 1\u001b[0;31m \u001b[0mteams\u001b[0m\u001b[0;34m\u001b[0m\u001b[0;34m\u001b[0m\u001b[0m\n\u001b[0m",
      "\u001b[0;31mNameError\u001b[0m: name 'teams' is not defined"
     ]
    }
   ],
   "source": [
    "teams"
   ]
  },
  {
   "cell_type": "code",
   "execution_count": 135,
   "metadata": {},
   "outputs": [],
   "source": [
    "from osometweet.utils import chunker"
   ]
  },
  {
   "cell_type": "code",
   "execution_count": 147,
   "metadata": {},
   "outputs": [
    {
     "name": "stdout",
     "output_type": "stream",
     "text": [
      "Jimmy smith Tom brady\n",
      "Billy bob Tiny time the big beast\n"
     ]
    }
   ],
   "source": [
    "for team1, team2 in chunker(all_teams,2):\n",
    "    print(team1.player1, team1.player2)"
   ]
  },
  {
   "cell_type": "code",
   "execution_count": null,
   "metadata": {},
   "outputs": [],
   "source": []
  },
  {
   "cell_type": "code",
   "execution_count": 90,
   "metadata": {},
   "outputs": [
    {
     "data": {
      "text/plain": [
       "[]"
      ]
     },
     "execution_count": 90,
     "metadata": {},
     "output_type": "execute_result"
    }
   ],
   "source": [
    "individual_players"
   ]
  },
  {
   "cell_type": "code",
   "execution_count": 31,
   "metadata": {},
   "outputs": [
    {
     "data": {
      "text/plain": [
       "defaultdict(list,\n",
       "            {'jimmy smith ': ['billy bob'],\n",
       "             'bubbleface mcgee ': ['tom brady', 'the new guy']})"
      ]
     },
     "execution_count": 31,
     "metadata": {},
     "output_type": "execute_result"
    }
   ],
   "source": [
    "cant_pair"
   ]
  },
  {
   "cell_type": "code",
   "execution_count": null,
   "metadata": {},
   "outputs": [],
   "source": [
    "for"
   ]
  },
  {
   "cell_type": "code",
   "execution_count": 27,
   "metadata": {},
   "outputs": [
    {
     "data": {
      "text/plain": [
       "['tom brady', 'the new guy']"
      ]
     },
     "execution_count": 27,
     "metadata": {},
     "output_type": "execute_result"
    }
   ],
   "source": [
    "players[4][1:]"
   ]
  },
  {
   "cell_type": "code",
   "execution_count": null,
   "metadata": {},
   "outputs": [],
   "source": [
    "str.split()"
   ]
  },
  {
   "cell_type": "code",
   "execution_count": 17,
   "metadata": {},
   "outputs": [
    {
     "data": {
      "text/plain": [
       "['jimmy smith ', 'billy bob']"
      ]
     },
     "execution_count": 17,
     "metadata": {},
     "output_type": "execute_result"
    }
   ],
   "source": [
    "players[1].split(\"!!\")"
   ]
  },
  {
   "cell_type": "code",
   "execution_count": 6,
   "metadata": {},
   "outputs": [],
   "source": [
    "random.shuffle(players)"
   ]
  },
  {
   "cell_type": "code",
   "execution_count": 26,
   "metadata": {},
   "outputs": [
    {
     "data": {
      "text/plain": [
       "[['billy bob'],\n",
       " ['jimmy smith ', 'billy bob'],\n",
       " ['katy wentworth'],\n",
       " ['tiny time the big beast'],\n",
       " ['bubbleface mcgee ', 'tom brady', 'the new guy'],\n",
       " ['tom brady'],\n",
       " ['the new guy'],\n",
       " ['another random'],\n",
       " ['last fool']]"
      ]
     },
     "execution_count": 26,
     "metadata": {},
     "output_type": "execute_result"
    }
   ],
   "source": [
    "players"
   ]
  },
  {
   "cell_type": "code",
   "execution_count": null,
   "metadata": {},
   "outputs": [],
   "source": [
    "class Team:\n",
    "    __init__(self, player1, player2)"
   ]
  }
 ],
 "metadata": {
  "kernelspec": {
   "display_name": "Python 3",
   "language": "python",
   "name": "python3"
  },
  "language_info": {
   "codemirror_mode": {
    "name": "ipython",
    "version": 3
   },
   "file_extension": ".py",
   "mimetype": "text/x-python",
   "name": "python",
   "nbconvert_exporter": "python",
   "pygments_lexer": "ipython3",
   "version": "3.7.6"
  }
 },
 "nbformat": 4,
 "nbformat_minor": 2
}
